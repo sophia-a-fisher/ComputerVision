{
 "cells": [
  {
   "cell_type": "code",
   "execution_count": 1,
   "id": "10ba1924-a4a0-428e-8601-4629eeaf3bdf",
   "metadata": {},
   "outputs": [],
   "source": [
    "import cv2"
   ]
  },
  {
   "cell_type": "code",
   "execution_count": 2,
   "id": "15337010-d63b-46f4-8957-d8b8a9c16b7b",
   "metadata": {},
   "outputs": [],
   "source": [
    "TrcDict = {'csrt': cv2.legacy.TrackerCSRT_create(),\n",
    "          'kcf': cv2.legacy.TrackerKCF_create,\n",
    "          'boosting': cv2.legacy.TrackerBoosting_create,\n",
    "          'mil': cv2.legacy.TrackerMIL_create,\n",
    "          'tld': cv2.legacy.TrackerTLD_create,\n",
    "          'medianflow': cv2.legacy.TrackerMedianFlow_create,\n",
    "          'mosse': cv2.legacy.TrackerMOSSE_create}"
   ]
  },
  {
   "cell_type": "code",
   "execution_count": 5,
   "id": "19a15f32-835c-45b8-a15b-66312fbf63a0",
   "metadata": {},
   "outputs": [],
   "source": [
    "tracker = TrcDict['csrt']\n",
    "# tracker = cv2.legacy.TrackerCSRT_create()"
   ]
  },
  {
   "cell_type": "code",
   "execution_count": 6,
   "id": "b28bcd55-04fc-4fb0-b000-8bf9cf239772",
   "metadata": {},
   "outputs": [],
   "source": [
    "vs = cv2.VideoCapture('../Images/soccer.mp4')"
   ]
  },
  {
   "cell_type": "code",
   "execution_count": 14,
   "id": "e5533ed9-b22e-4007-9296-13de6f7aedf8",
   "metadata": {},
   "outputs": [
    {
     "data": {
      "text/plain": [
       "True"
      ]
     },
     "execution_count": 14,
     "metadata": {},
     "output_type": "execute_result"
    }
   ],
   "source": [
    "ret, frame = vs.read()\n",
    "cv2.imshow('Frame',frame)\n",
    "bb = cv2.selectROI('Frame',frame)\n",
    "tracker.init(frame,bb)"
   ]
  },
  {
   "cell_type": "code",
   "execution_count": 16,
   "id": "a296a74c-b785-4f22-884c-4ce069f8562f",
   "metadata": {},
   "outputs": [],
   "source": [
    "while True:\n",
    "    ret, frame = vs.read()\n",
    "    if not ret:\n",
    "        break\n",
    "    (success, box) = tracker.update(frame)\n",
    "    if success:\n",
    "        (x, y, w, h) = [int(a) for a in box]\n",
    "        cv2.rectangle(frame,(x,y),(x+w,y+h),(255,0,0),2)\n",
    "    cv2.imshow('Frame',frame)\n",
    "    key = cv2.waitKey(5) & 0xFF\n",
    "    if key == ord('q'):\n",
    "        break\n",
    "vs.release()\n",
    "cv2.destroyAllWindows()"
   ]
  },
  {
   "cell_type": "markdown",
   "id": "1e7088d4-97fe-4572-91dd-4fedce18b31d",
   "metadata": {},
   "source": [
    "# Tracking Multiple Objects"
   ]
  },
  {
   "cell_type": "code",
   "execution_count": 15,
   "id": "d4ae1ca5-e19f-4eb7-af1b-1c2dda16d65c",
   "metadata": {},
   "outputs": [],
   "source": [
    "trackers = cv2.legacy.MultiTracker_create()"
   ]
  },
  {
   "cell_type": "code",
   "execution_count": 17,
   "id": "49f7e5e1-f3e2-4aed-8536-4bbf33a8b40b",
   "metadata": {},
   "outputs": [],
   "source": [
    "vs = cv2.VideoCapture('../Images/soccer.mp4')\n",
    "ret, frame = vs.read()"
   ]
  },
  {
   "cell_type": "code",
   "execution_count": 19,
   "id": "3374f990-7261-433f-8285-b5ca70256d0a",
   "metadata": {},
   "outputs": [],
   "source": [
    "k = 4\n",
    "for i in range(k):\n",
    "    cv2.imshow('Frame',frame)\n",
    "    bbi = cv2.selectROI('Frame',frame)\n",
    "    tracker_i = cv2.legacy.TrackerCSRT_create()\n",
    "    trackers.add(tracker_i,frame,bbi)"
   ]
  },
  {
   "cell_type": "code",
   "execution_count": 25,
   "id": "229d27e9-b5c0-4b15-90c6-4f97e0440b69",
   "metadata": {},
   "outputs": [],
   "source": [
    "frameNumber = 2\n",
    "baseDir = '../TrackingResults'\n",
    "import numpy as np\n",
    "while True:\n",
    "    ret, frame = vs.read()\n",
    "    if not ret:\n",
    "        break\n",
    "    (success, boxes) = trackers.update(frame)\n",
    "    np.savetxt(baseDir + 'frame_'+str(frameNumber)+'.txt',boxes,fmt='%f')\n",
    "    frameNumber += 1\n",
    "    for box in boxes:\n",
    "        (x, y, w, h) = [int(a) for a in box]\n",
    "        cv2.rectangle(frame,(x,y),(x+w,y+h),(255,0,255),2)\n",
    "        \n",
    "    cv2.imshow('Frame',frame)\n",
    "    key = cv2.waitKey(5) & 0xFF\n",
    "    if key == ord('q'):\n",
    "        break\n",
    "vs.release()\n",
    "cv2.destroyAllWindows()"
   ]
  },
  {
   "cell_type": "markdown",
   "id": "f7e3559b-780a-4acd-9e50-dfe02d037be8",
   "metadata": {},
   "source": [
    "# Saving Annotations Onto Videos with Webcams"
   ]
  },
  {
   "cell_type": "code",
   "execution_count": 9,
   "id": "ae8758ad-4e17-4b4e-99cc-270530546670",
   "metadata": {},
   "outputs": [],
   "source": [
    "import imutils\n",
    "import cv2"
   ]
  },
  {
   "cell_type": "code",
   "execution_count": 39,
   "id": "54924292-954e-4a91-b482-2c11e217ac8d",
   "metadata": {},
   "outputs": [],
   "source": []
  },
  {
   "cell_type": "code",
   "execution_count": 41,
   "id": "de0fab38-ee4f-4360-9769-b5c342e7bc41",
   "metadata": {},
   "outputs": [
    {
     "data": {
      "text/plain": [
       "True"
      ]
     },
     "execution_count": 41,
     "metadata": {},
     "output_type": "execute_result"
    }
   ],
   "source": [
    "ret, frame = w.read()\n",
    "frame = imutils.resize(frame,width=600)\n",
    "cv2.imshow('Frame',frame)\n",
    "bb = cv2.selectROI('Frame',frame)\n",
    "tracker.init(frame,bb)"
   ]
  },
  {
   "cell_type": "code",
   "execution_count": 13,
   "id": "187063e5-891f-4f8e-b593-e7a09d3d8794",
   "metadata": {},
   "outputs": [
    {
     "ename": "AttributeError",
     "evalue": "'int' object has no attribute 'read'",
     "output_type": "error",
     "traceback": [
      "\u001b[1;31m---------------------------------------------------------------------------\u001b[0m",
      "\u001b[1;31mAttributeError\u001b[0m                            Traceback (most recent call last)",
      "Cell \u001b[1;32mIn[13], line 10\u001b[0m\n\u001b[0;32m      7\u001b[0m tracker\u001b[38;5;241m.\u001b[39minit(frame,bb)\n\u001b[0;32m      8\u001b[0m \u001b[38;5;28;01mwhile\u001b[39;00m \u001b[38;5;28;01mTrue\u001b[39;00m:\n\u001b[0;32m      9\u001b[0m     \u001b[38;5;66;03m# w = cv2.VideoCapture(0)?\u001b[39;00m\n\u001b[1;32m---> 10\u001b[0m     ret, frame \u001b[38;5;241m=\u001b[39m w\u001b[38;5;241m.\u001b[39mread()\n\u001b[0;32m     11\u001b[0m     \u001b[38;5;28;01mif\u001b[39;00m \u001b[38;5;129;01mnot\u001b[39;00m ret:\n\u001b[0;32m     12\u001b[0m         \u001b[38;5;28;01mbreak\u001b[39;00m\n",
      "\u001b[1;31mAttributeError\u001b[0m: 'int' object has no attribute 'read'"
     ]
    }
   ],
   "source": [
    "tracker = cv2.legacy.TrackerCSRT_create()\n",
    "w=cv2.VideoCapture(0)\n",
    "ret, frame = w.read()\n",
    "frame = imutils.resize(frame,width=600)\n",
    "cv2.imshow('Frame',frame)\n",
    "bb = cv2.selectROI('Frame',frame)\n",
    "tracker.init(frame,bb)\n",
    "while True:\n",
    "    # w = cv2.VideoCapture(0)?\n",
    "    ret, frame = w.read()\n",
    "    if not ret:\n",
    "        break\n",
    "    frame = imutils.resize(frame,width=600)\n",
    "    (success, box) = tracker.update(frame)\n",
    "    if success:\n",
    "        (x, y, w, h) = [int(a) for a in box]\n",
    "        cv2.rectangle(frame,(x,y),(x+w,y+h),(255,0,0),2)\n",
    "    cv2.imshow('Frame',frame)\n",
    "    key = cv2.waitKey(5) & 0xFF\n",
    "    if key == ord('q'):\n",
    "        break\n",
    "w.release()\n",
    "cv2.destroyAllWindows()"
   ]
  },
  {
   "cell_type": "code",
   "execution_count": 1,
   "id": "ab7d08eb-142d-4842-9f29-f58b96a30da1",
   "metadata": {},
   "outputs": [
    {
     "ename": "KeyboardInterrupt",
     "evalue": "",
     "output_type": "error",
     "traceback": [
      "\u001b[1;31m---------------------------------------------------------------------------\u001b[0m",
      "\u001b[1;31mKeyboardInterrupt\u001b[0m                         Traceback (most recent call last)",
      "Cell \u001b[1;32mIn[1], line 7\u001b[0m\n\u001b[0;32m      5\u001b[0m cap\u001b[38;5;241m.\u001b[39mset(\u001b[38;5;241m10\u001b[39m,\u001b[38;5;241m100\u001b[39m)\u001b[38;5;66;03m#brightness\u001b[39;00m\n\u001b[0;32m      6\u001b[0m \u001b[38;5;28;01mwhile\u001b[39;00m \u001b[38;5;28;01mTrue\u001b[39;00m:\n\u001b[1;32m----> 7\u001b[0m     success, img \u001b[38;5;241m=\u001b[39m cap\u001b[38;5;241m.\u001b[39mread()\n\u001b[0;32m      8\u001b[0m     \u001b[38;5;28;01mif\u001b[39;00m success:\n\u001b[0;32m      9\u001b[0m         \u001b[38;5;28mprint\u001b[39m(img)\u001b[38;5;66;03m#getting None\u001b[39;00m\n",
      "\u001b[1;31mKeyboardInterrupt\u001b[0m: "
     ]
    }
   ],
   "source": [
    "import cv2\n",
    "cap=cv2.VideoCapture(0, cv2.CAP_V4L)\n",
    "cap.set(3,640)#width\n",
    "cap.set(4,480)#height\n",
    "cap.set(10,100)#brightness\n",
    "while True:\n",
    "    success, img = cap.read()\n",
    "    if success:\n",
    "        print(img)#getting None\n",
    "        print(success)#getting False\n",
    "        cv2.imshow(\"video\", img)\n",
    "        cv2.waitKey(1)\n",
    "        if 0xFF == ord('q') :\n",
    "            break"
   ]
  },
  {
   "cell_type": "code",
   "execution_count": null,
   "id": "ba6d4cf0-ec73-46b5-8f7e-dd3210afba3c",
   "metadata": {},
   "outputs": [],
   "source": []
  }
 ],
 "metadata": {
  "kernelspec": {
   "display_name": "Python 3 (ipykernel)",
   "language": "python",
   "name": "python3"
  },
  "language_info": {
   "codemirror_mode": {
    "name": "ipython",
    "version": 3
   },
   "file_extension": ".py",
   "mimetype": "text/x-python",
   "name": "python",
   "nbconvert_exporter": "python",
   "pygments_lexer": "ipython3",
   "version": "3.11.7"
  }
 },
 "nbformat": 4,
 "nbformat_minor": 5
}
