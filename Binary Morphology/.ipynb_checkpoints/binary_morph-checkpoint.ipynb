{
 "cells": [
  {
   "cell_type": "code",
   "execution_count": 1,
   "id": "a0f74370-b7e5-4b5a-8e48-ac91fce62975",
   "metadata": {},
   "outputs": [],
   "source": [
    "import numpy as np\n",
    "import matplotlib.pyplot as plt\n",
    "import matplotlib as mpl\n",
    "import cv2"
   ]
  },
  {
   "cell_type": "code",
   "execution_count": 2,
   "id": "07017700-a46f-4b3d-a2ce-a543bca8ba68",
   "metadata": {},
   "outputs": [],
   "source": [
    "grayImg = 'albert-einstein_gray.jpg'\n",
    "colorImg = 'tulips.jpg'\n",
    "affineWarped = 'affine-transformed image.jpg'\n",
    "\n",
    "I_gray = cv2.imread(grayImg, cv2.IMREAD_GRAYSCALE)\n",
    "I_affineWarped = cv2.imread(affineWarped, cv2.IMREAD_GRAYSCALE)\n",
    "I_BGR = cv2.imread(colorImg)\n",
    "I_BGRGray = cv2.imread(colorImg, cv2.IMREAD_GRAYSCALE)"
   ]
  }
 ],
 "metadata": {
  "kernelspec": {
   "display_name": "Python 3 (ipykernel)",
   "language": "python",
   "name": "python3"
  },
  "language_info": {
   "codemirror_mode": {
    "name": "ipython",
    "version": 3
   },
   "file_extension": ".py",
   "mimetype": "text/x-python",
   "name": "python",
   "nbconvert_exporter": "python",
   "pygments_lexer": "ipython3",
   "version": "3.11.7"
  }
 },
 "nbformat": 4,
 "nbformat_minor": 5
}
